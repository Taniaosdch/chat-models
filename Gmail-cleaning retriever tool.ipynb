{
 "cells": [
  {
   "cell_type": "markdown",
   "id": "70e013ee-6087-4cd9-8f4d-e56cd64545f8",
   "metadata": {},
   "source": [
    "- Step 1: Set up Gmail API access \n",
    "- Step 2: Fetch your emails \n",
    "- Step 3: Convert emails to text \n",
    "- Step 4: Embed the emails \n",
    "- Step 5: Store in vector store + search"
   ]
  },
  {
   "cell_type": "code",
   "execution_count": 10,
   "id": "aadefb74-cfc3-4f82-8900-daeb63b4bb33",
   "metadata": {
    "tags": []
   },
   "outputs": [],
   "source": [
    "from google.oauth2.credentials import Credentials\n",
    "from google_auth_oauthlib.flow import InstalledAppFlow\n",
    "from googleapiclient.discovery import build\n",
    "import base64\n",
    "import email\n",
    "\n",
    "# Scopes\n",
    "SCOPES = [\"https://www.googleapis.com/auth/gmail.readonly\"]\n",
    "\n",
    "# Auth\n",
    "flow = InstalledAppFlow.from_client_secrets_file(\"credentials.json\", SCOPES)"
   ]
  },
  {
   "cell_type": "code",
   "execution_count": null,
   "id": "df886862-229b-4c2a-87e9-4d01b6f21902",
   "metadata": {
    "tags": []
   },
   "outputs": [
    {
     "name": "stdout",
     "output_type": "stream",
     "text": [
      "Please go to this URL and authorize access:\n",
      "https://accounts.google.com/o/oauth2/auth?response_type=code&client_id=85555660348-54083q32gcufsif90faqgvs4tru4d1l4.apps.googleusercontent.com&scope=https%3A%2F%2Fwww.googleapis.com%2Fauth%2Fgmail.readonly&state=8gBCC8ToA6Qpbp5ckh09WpSnZXmjw3&prompt=consent&access_type=offline\n"
     ]
    }
   ],
   "source": [
    "# STEP 1: Create the authorization URL\n",
    "auth_url, _ = flow.authorization_url(prompt='consent')\n",
    "\n",
    "print(\"Please go to this URL and authorize access:\")\n",
    "print(auth_url)\n",
    "\n",
    "# STEP 2: After authorizing in the browser, Google will give you a code.\n",
    "code = input(\"Paste the authorization code here: \")\n",
    "\n",
    "# STEP 3: Exchange the code for credentials\n",
    "flow.fetch_token(code=code)\n",
    "creds = flow.credentials\n"
   ]
  },
  {
   "cell_type": "code",
   "execution_count": 7,
   "id": "aaed13bb-bb1c-41a1-871b-f863b88ad90f",
   "metadata": {
    "tags": []
   },
   "outputs": [
    {
     "ename": "NameError",
     "evalue": "name 'creds' is not defined",
     "output_type": "error",
     "traceback": [
      "\u001b[0;31m---------------------------------------------------------------------------\u001b[0m",
      "\u001b[0;31mNameError\u001b[0m                                 Traceback (most recent call last)",
      "Cell \u001b[0;32mIn[7], line 1\u001b[0m\n\u001b[0;32m----> 1\u001b[0m service \u001b[38;5;241m=\u001b[39m build(\u001b[38;5;124m\"\u001b[39m\u001b[38;5;124mgmail\u001b[39m\u001b[38;5;124m\"\u001b[39m, \u001b[38;5;124m\"\u001b[39m\u001b[38;5;124mv1\u001b[39m\u001b[38;5;124m\"\u001b[39m, credentials\u001b[38;5;241m=\u001b[39mcreds)\n\u001b[1;32m      3\u001b[0m \u001b[38;5;66;03m# Fetch 10 emails\u001b[39;00m\n\u001b[1;32m      4\u001b[0m results \u001b[38;5;241m=\u001b[39m service\u001b[38;5;241m.\u001b[39musers()\u001b[38;5;241m.\u001b[39mmessages()\u001b[38;5;241m.\u001b[39mlist(userId\u001b[38;5;241m=\u001b[39m\u001b[38;5;124m\"\u001b[39m\u001b[38;5;124mme\u001b[39m\u001b[38;5;124m\"\u001b[39m, maxResults\u001b[38;5;241m=\u001b[39m\u001b[38;5;241m10\u001b[39m)\u001b[38;5;241m.\u001b[39mexecute()\n",
      "\u001b[0;31mNameError\u001b[0m: name 'creds' is not defined"
     ]
    }
   ],
   "source": [
    "service = build(\"gmail\", \"v1\", credentials=creds)\n",
    "\n",
    "# Fetch 10 emails\n",
    "results = service.users().messages().list(userId=\"me\", maxResults=10).execute()\n",
    "messages = results.get(\"messages\", [])\n",
    "\n",
    "emails = []\n",
    "for msg in messages:\n",
    "    msg_data = service.users().messages().get(userId=\"me\", id=msg[\"id\"]).execute()\n",
    "    payload = msg_data[\"payload\"]\n",
    "    headers = payload.get(\"headers\", [])\n",
    "    subject = next((h[\"value\"] for h in headers if h[\"name\"] == \"Subject\"), \"\")\n",
    "    parts = payload.get(\"parts\", [])\n",
    "    \n",
    "    # Get email body\n",
    "    data = parts[0][\"body\"][\"data\"] if parts else payload[\"body\"].get(\"data\", \"\")\n",
    "    body = base64.urlsafe_b64decode(data).decode(\"utf-8\", errors=\"ignore\")\n",
    "\n",
    "    emails.append(f\"Subject: {subject}\\n\\n{body}\")"
   ]
  },
  {
   "cell_type": "code",
   "execution_count": 1,
   "id": "f75cdc83-6149-496b-b24b-5e29b4607f6d",
   "metadata": {
    "tags": []
   },
   "outputs": [],
   "source": []
  },
  {
   "cell_type": "code",
   "execution_count": 1,
   "id": "02d4e8f5-5e6b-4c4b-9bf0-645d42671ae5",
   "metadata": {
    "tags": []
   },
   "outputs": [],
   "source": []
  },
  {
   "cell_type": "code",
   "execution_count": 1,
   "id": "dfd592c8-8a2e-4205-8119-3259ff72d5e7",
   "metadata": {
    "tags": []
   },
   "outputs": [],
   "source": []
  },
  {
   "cell_type": "code",
   "execution_count": 1,
   "id": "ecfff433-5656-4b87-b282-11703d10d90c",
   "metadata": {
    "tags": []
   },
   "outputs": [],
   "source": []
  },
  {
   "cell_type": "code",
   "execution_count": 1,
   "id": "1eb9ac52-2070-4a47-aeec-636c7724ee36",
   "metadata": {
    "tags": []
   },
   "outputs": [],
   "source": []
  },
  {
   "cell_type": "code",
   "execution_count": 1,
   "id": "6250ec84-fb42-4678-b37f-8a3e5196a583",
   "metadata": {
    "tags": []
   },
   "outputs": [],
   "source": []
  },
  {
   "cell_type": "code",
   "execution_count": 1,
   "id": "77b8e5b5-090d-4450-a798-08e101cb39ff",
   "metadata": {
    "tags": []
   },
   "outputs": [],
   "source": []
  },
  {
   "cell_type": "code",
   "execution_count": 1,
   "id": "fa737cba-caee-4cde-a0ad-a068e9e8cf24",
   "metadata": {
    "tags": []
   },
   "outputs": [],
   "source": []
  },
  {
   "cell_type": "code",
   "execution_count": 1,
   "id": "9c7121ec-8699-41fb-8505-8adca128c975",
   "metadata": {
    "tags": []
   },
   "outputs": [],
   "source": []
  },
  {
   "cell_type": "code",
   "execution_count": 1,
   "id": "a6f6c984-ee16-41d6-a154-483cc2ef1c00",
   "metadata": {
    "tags": []
   },
   "outputs": [],
   "source": []
  },
  {
   "cell_type": "code",
   "execution_count": 1,
   "id": "80fff04e-033c-4cf1-a4a1-a74a907f9432",
   "metadata": {
    "tags": []
   },
   "outputs": [
    {
     "name": "stderr",
     "output_type": "stream",
     "text": [
      "/home/osat/.conda/envs/osat/lib/python3.12/site-packages/tqdm/auto.py:21: TqdmWarning: IProgress not found. Please update jupyter and ipywidgets. See https://ipywidgets.readthedocs.io/en/stable/user_install.html\n",
      "  from .autonotebook import tqdm as notebook_tqdm\n"
     ]
    }
   ],
   "source": [
    "from sentence_transformers import SentenceTransformer\n",
    "\n",
    "model = SentenceTransformer(\"all-MiniLM-L6-v2\")"
   ]
  },
  {
   "cell_type": "code",
   "execution_count": null,
   "id": "01a7c2a5-f46c-4ba6-9a70-5dc698e18eaa",
   "metadata": {},
   "outputs": [],
   "source": []
  },
  {
   "cell_type": "code",
   "execution_count": null,
   "id": "13d22745-05bf-4b75-b798-e90f0155f59e",
   "metadata": {},
   "outputs": [],
   "source": []
  }
 ],
 "metadata": {
  "kernelspec": {
   "display_name": "osat",
   "language": "python",
   "name": "osat"
  },
  "language_info": {
   "codemirror_mode": {
    "name": "ipython",
    "version": 3
   },
   "file_extension": ".py",
   "mimetype": "text/x-python",
   "name": "python",
   "nbconvert_exporter": "python",
   "pygments_lexer": "ipython3",
   "version": "3.12.2"
  }
 },
 "nbformat": 4,
 "nbformat_minor": 5
}
